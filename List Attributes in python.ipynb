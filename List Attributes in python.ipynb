{
 "cells": [
  {
   "cell_type": "markdown",
   "id": "294d15bd",
   "metadata": {},
   "source": [
    "# LIST Attributes in python "
   ]
  },
  {
   "cell_type": "markdown",
   "id": "6fbe14f4",
   "metadata": {},
   "source": [
    "# 1] list()\n",
    "The list() constructor returns a list in Python."
   ]
  },
  {
   "cell_type": "code",
   "execution_count": 1,
   "id": "497368e0",
   "metadata": {},
   "outputs": [
    {
     "name": "stdout",
     "output_type": "stream",
     "text": [
      "['P', 'y', 't', 'h', 'o', 'n']\n",
      "<class 'list'>\n"
     ]
    }
   ],
   "source": [
    "text = 'Python'\n",
    "\n",
    "# convert string to list\n",
    "text_list = list(text)\n",
    "print(text_list)\n",
    "\n",
    "# check type of text_list\n",
    "print(type(text_list))\n",
    "\n"
   ]
  },
  {
   "cell_type": "markdown",
   "id": "982005af",
   "metadata": {},
   "source": [
    "list() Syntax\n",
    "The syntax of list() is:\n",
    "\n",
    "list([iterable])\n",
    "list() Parameters\n",
    "The list() constructor takes a single argument:\n",
    "\n",
    "iterable (optional) - an object that could be a sequence (string, tuples) or collection (set, dictionary) or \n",
    "any iterator object\n",
    "\n",
    "list() Return Value\n",
    "The list() constructor returns a list.\n",
    "\n",
    "If no parameters are passed, it returns an empty list\n",
    "If iterable is passed as a parameter, it creates a list consisting"
   ]
  },
  {
   "cell_type": "code",
   "execution_count": 2,
   "id": "9eb010c5",
   "metadata": {},
   "outputs": [
    {
     "name": "stdout",
     "output_type": "stream",
     "text": [
      "[]\n",
      "['a', 'e', 'i', 'o', 'u']\n",
      "['a', 'e', 'i', 'o', 'u']\n",
      "['a', 'e', 'i', 'o', 'u']\n"
     ]
    }
   ],
   "source": [
    "#Example 1: Create lists from string, tuple, and list\n",
    "\n",
    "# empty list\n",
    "print(list())\n",
    "\n",
    "# vowel string\n",
    "vowel_string = 'aeiou'\n",
    "print(list(vowel_string))\n",
    "\n",
    "# vowel tuple\n",
    "vowel_tuple = ('a', 'e', 'i', 'o', 'u')\n",
    "print(list(vowel_tuple))\n",
    "\n",
    "# vowel list\n",
    "vowel_list = ['a', 'e', 'i', 'o', 'u']\n",
    "print(list(vowel_list))"
   ]
  },
  {
   "cell_type": "code",
   "execution_count": 3,
   "id": "6356b2c7",
   "metadata": {},
   "outputs": [
    {
     "name": "stdout",
     "output_type": "stream",
     "text": [
      "['i', 'e', 'u', 'o', 'a']\n",
      "['a', 'e', 'i', 'o', 'u']\n"
     ]
    }
   ],
   "source": [
    "#Example 2  Create lists from set and dictionary\n",
    "# vowel set\n",
    "vowel_set = {'a', 'e', 'i', 'o', 'u'}\n",
    "print(list(vowel_set))\n",
    "\n",
    "# vowel dictionary\n",
    "vowel_dictionary = {'a': 1, 'e': 2, 'i': 3, 'o':4, 'u':5}\n",
    "print(list(vowel_dictionary))"
   ]
  },
  {
   "cell_type": "code",
   "execution_count": 5,
   "id": "3cb24edc",
   "metadata": {},
   "outputs": [
    {
     "name": "stdout",
     "output_type": "stream",
     "text": [
      "[1, 2, 4, 8, 16]\n"
     ]
    }
   ],
   "source": [
    "# Example 3: Create a list from an iterator object\n",
    "# objects of this class are iterators\n",
    "class PowTwo:\n",
    "    def __init__(self, max):\n",
    "        self.max = max\n",
    "    \n",
    "    def __iter__(self):\n",
    "        self.num = 0\n",
    "        return self\n",
    "        \n",
    "    def __next__(self):\n",
    "        if(self.num >= self.max):\n",
    "            raise StopIteration\n",
    "        result = 2 ** self.num\n",
    "        self.num += 1\n",
    "        return result\n",
    "\n",
    "pow_two = PowTwo(5)\n",
    "pow_two_iter = iter(pow_two)\n",
    "\n",
    "print(list(pow_two_iter))"
   ]
  },
  {
   "cell_type": "markdown",
   "id": "8852b8ab",
   "metadata": {},
   "source": [
    "# 2] insert()\n",
    "The insert() method inserts an element to the list at the specified index."
   ]
  },
  {
   "cell_type": "code",
   "execution_count": 6,
   "id": "14c47c2a",
   "metadata": {},
   "outputs": [
    {
     "name": "stdout",
     "output_type": "stream",
     "text": [
      "List: ['a', 'e', 'i', 'o', 'u']\n"
     ]
    }
   ],
   "source": [
    "# create a list of vowels\n",
    "vowel = ['a', 'e', 'i', 'u']\n",
    "\n",
    "# 'o' is inserted at index 3 (4th position)\n",
    "vowel.insert(3, 'o')\n",
    "\n",
    "\n",
    "print('List:', vowel)\n",
    "\n"
   ]
  },
  {
   "cell_type": "markdown",
   "id": "e8d796d4",
   "metadata": {},
   "source": [
    "Syntax of List insert()\n",
    "The syntax of the insert() method is\n",
    "\n",
    "list.insert(i, elem)\n",
    "Here, elem is inserted to the list at the ith index. All the elements after elem are shifted to the right.\n",
    "\n",
    "insert() Parameters\n",
    "The insert() method takes two parameters:\n",
    "\n",
    "index - the index where the element needs to be inserted\n",
    "element - this is the element to be inserted in the list\n",
    "Notes:\n",
    "\n",
    "If index is 0, the element is inserted at the beginning of the list.\n",
    "If index is 3, the index of the inserted element will be 3 (4th element in the list).\n",
    "Return Value from insert()\n",
    "The insert() method doesn't return anything; returns None. It only updates the current list.\n",
    "\n"
   ]
  },
  {
   "cell_type": "code",
   "execution_count": 7,
   "id": "1b45620f",
   "metadata": {},
   "outputs": [
    {
     "name": "stdout",
     "output_type": "stream",
     "text": [
      "List: [2, 3, 5, 7, 11]\n"
     ]
    }
   ],
   "source": [
    "#Example 1: Inserting an Element to the List\n",
    "# create a list of prime numbers\n",
    "prime_numbers = [2, 3, 5, 7]\n",
    "\n",
    "# insert 11 at index 4\n",
    "prime_numbers.insert(4, 11)\n",
    "\n",
    "\n",
    "print('List:', prime_numbers)"
   ]
  },
  {
   "cell_type": "code",
   "execution_count": 8,
   "id": "68ed9c17",
   "metadata": {},
   "outputs": [
    {
     "name": "stdout",
     "output_type": "stream",
     "text": [
      "Updated List: [{1, 2}, (3, 4), [5, 6, 7]]\n"
     ]
    }
   ],
   "source": [
    "#Example 2: Inserting a Tuple (as an Element) to the List\n",
    "mixed_list = [{1, 2}, [5, 6, 7]]\n",
    "\n",
    "# number tuple\n",
    "number_tuple = (3, 4)\n",
    "\n",
    "# inserting a tuple to the list\n",
    "mixed_list.insert(1, number_tuple)\n",
    "\n",
    "\n",
    "print('Updated List:', mixed_list)"
   ]
  },
  {
   "cell_type": "markdown",
   "id": "90ac95d9",
   "metadata": {},
   "source": [
    "# 3] clear()\n",
    "The clear() method removes all items from the list"
   ]
  },
  {
   "cell_type": "code",
   "execution_count": 10,
   "id": "5e7b7b3f",
   "metadata": {},
   "outputs": [
    {
     "name": "stdout",
     "output_type": "stream",
     "text": [
      "List after clear(): []\n"
     ]
    }
   ],
   "source": [
    "prime_numbers = [2, 3, 5, 7, 9, 11]\n",
    "\n",
    "# remove all elements\n",
    "prime_numbers.clear()\n",
    "\n",
    "# Updated prime_numbers List\n",
    "print('List after clear():', prime_numbers)\n",
    "\n",
    "\n"
   ]
  },
  {
   "cell_type": "markdown",
   "id": "08442193",
   "metadata": {},
   "source": [
    "Syntax of List clear()\n",
    "The syntax of clear() method is:\n",
    "\n",
    "list.clear()\n",
    "clear() Parameters\n",
    "The clear() method doesn't take any parameters.\n",
    "\n",
    "Return Value from clear()\n",
    "The clear() method only empties the given list. It doesn't return any value.\n",
    "\n"
   ]
  },
  {
   "cell_type": "code",
   "execution_count": 14,
   "id": "be2c98dd",
   "metadata": {},
   "outputs": [
    {
     "name": "stdout",
     "output_type": "stream",
     "text": [
      "List: []\n"
     ]
    }
   ],
   "source": [
    "#Example 1: Working of clear() method\n",
    "# Defining a list\n",
    "list = [{1, 2}, ('a'), ['1.1', '2.2']]\n",
    "\n",
    "# clearing the list\n",
    "list.clear()\n",
    "\n",
    "\n",
    "print('List:', list)\n",
    "\n",
    "\n"
   ]
  },
  {
   "cell_type": "code",
   "execution_count": 15,
   "id": "6d2355d7",
   "metadata": {},
   "outputs": [
    {
     "name": "stdout",
     "output_type": "stream",
     "text": [
      "List: []\n"
     ]
    }
   ],
   "source": [
    "#Example 2: Emptying the List Using del\n",
    "# Defining a list\n",
    "list = [{1, 2}, ('a'), ['1.1', '2.2']]\n",
    "\n",
    "# clearing the list\n",
    "del list[:]\n",
    "\n",
    "\n",
    "print('List:', list)"
   ]
  },
  {
   "cell_type": "markdown",
   "id": "2cede66a",
   "metadata": {},
   "source": [
    "# 4] extend()\n",
    "The extend() method adds all the elements of an iterable (list, tuple, string etc.) to the end of the list."
   ]
  },
  {
   "cell_type": "code",
   "execution_count": 17,
   "id": "ed80164f",
   "metadata": {},
   "outputs": [
    {
     "name": "stdout",
     "output_type": "stream",
     "text": [
      "List after extend(): [1, 4, 2, 3, 5]\n"
     ]
    }
   ],
   "source": [
    "# create a list\n",
    "prime_numbers = [2, 3, 5]\n",
    "\n",
    "# create another list\n",
    "numbers = [1, 4]\n",
    "\n",
    "# add all elements of prime_numbers to numbers\n",
    "numbers.extend(prime_numbers)\n",
    "\n",
    "\n",
    "print('List after extend():', numbers)\n",
    "\n"
   ]
  },
  {
   "cell_type": "markdown",
   "id": "1a76e4cc",
   "metadata": {},
   "source": [
    "Syntax of List extend()\n",
    "The syntax of the extend() method is:\n",
    "\n",
    "list1.extend(iterable)\n",
    "Here, all the elements of iterable are added to the end of list1.\n",
    "\n",
    "extend() Parameters\n",
    "As mentioned, the extend() method takes an iterable such as list, tuple, string etc.\n",
    "\n",
    "Return Value from extend()\n",
    "The extend() method modifies the original list. It doesn't return any value.\n",
    "\n"
   ]
  },
  {
   "cell_type": "code",
   "execution_count": 20,
   "id": "783bcb57",
   "metadata": {},
   "outputs": [
    {
     "name": "stdout",
     "output_type": "stream",
     "text": [
      "Languages List: ['French', 'English', 'Spanish', 'Portuguese']\n"
     ]
    }
   ],
   "source": [
    "#Example 1: Using extend() Method\n",
    "# languages list\n",
    "languages = ['French', 'English']\n",
    "\n",
    "# another list of language\n",
    "languages1 = ['Spanish', 'Portuguese']\n",
    "\n",
    "# appending language1 elements to language\n",
    "languages.extend(languages1)\n",
    "\n",
    "\n",
    "print('Languages List:', languages)"
   ]
  },
  {
   "cell_type": "code",
   "execution_count": 21,
   "id": "77ee4b88",
   "metadata": {},
   "outputs": [
    {
     "name": "stdout",
     "output_type": "stream",
     "text": [
      "New Language List: ['French', 'Spanish', 'Portuguese']\n",
      "Newer Languages List: ['French', 'Spanish', 'Portuguese', 'Japanese', 'Chinese']\n"
     ]
    }
   ],
   "source": [
    "#Example 2: Add Elements of Tuple and Set to List\n",
    "# languages list\n",
    "languages = ['French']\n",
    "\n",
    "# languages tuple\n",
    "languages_tuple = ('Spanish', 'Portuguese')\n",
    "\n",
    "# languages set\n",
    "languages_set = {'Chinese', 'Japanese'}\n",
    "\n",
    "# appending language_tuple elements to language\n",
    "languages.extend(languages_tuple)\n",
    "\n",
    "\n",
    "print('New Language List:', languages)\n",
    "\n",
    "# appending language_set elements to language\n",
    "languages.extend(languages_set)\n",
    "\n",
    "\n",
    "print('Newer Languages List:', languages)"
   ]
  },
  {
   "cell_type": "markdown",
   "id": "845be477",
   "metadata": {},
   "source": [
    "# 5] Count()\n",
    "The count() method returns the number of times the specified element appears in the list."
   ]
  },
  {
   "cell_type": "code",
   "execution_count": 24,
   "id": "db8b8dad",
   "metadata": {},
   "outputs": [
    {
     "name": "stdout",
     "output_type": "stream",
     "text": [
      "Count of 2: 3\n"
     ]
    }
   ],
   "source": [
    "# create a list\n",
    "numbers = [2, 3, 5, 2, 11, 2, 7]\n",
    "\n",
    "# check the count of 2\n",
    "count = numbers.count(2)\n",
    "\n",
    "\n",
    "print('Count of 2:', count)\n",
    "\n"
   ]
  },
  {
   "cell_type": "markdown",
   "id": "0a3f0bae",
   "metadata": {},
   "source": [
    "Syntax of List count()\n",
    "The syntax of the count() method is:\n",
    "\n",
    "list.count(element)\n",
    "count() Parameters\n",
    "The count() method takes a single argument:\n",
    "\n",
    "element - the element to be counted\n",
    "Return value from count()\n",
    "The count() method returns the number of times element appears in the list.\n",
    "\n"
   ]
  },
  {
   "cell_type": "code",
   "execution_count": 25,
   "id": "1adeae19",
   "metadata": {},
   "outputs": [
    {
     "name": "stdout",
     "output_type": "stream",
     "text": [
      "The count of i is: 2\n",
      "The count of p is: 0\n",
      "The count of ('a', 'b') is: 2\n",
      "The count of [3, 4] is: 1\n"
     ]
    }
   ],
   "source": [
    "#Example 1: Use of count()\n",
    "# vowels list\n",
    "vowels = ['a', 'e', 'i', 'o', 'i', 'u']\n",
    "\n",
    "# count element 'i'\n",
    "count = vowels.count('i')\n",
    "\n",
    "\n",
    "# print count\n",
    "print('The count of i is:', count)\n",
    "\n",
    "# count element 'p'\n",
    "count = vowels.count('p')\n",
    "\n",
    "\n",
    "# print count\n",
    "print('The count of p is:', count)\n",
    "\n",
    "\n",
    "\n",
    "#Example 2: Count Tuple and List Elements Inside List\n",
    "# random list\n",
    "random = ['a', ('a', 'b'), ('a', 'b'), [3, 4]]\n",
    "\n",
    "# count element ('a', 'b')\n",
    "count = random.count(('a', 'b'))\n",
    "\n",
    "\n",
    "# print count\n",
    "print(\"The count of ('a', 'b') is:\", count)\n",
    "\n",
    "# count element [3, 4]\n",
    "count = random.count([3, 4])\n",
    "\n",
    "\n",
    "# print count\n",
    "print(\"The count of [3, 4] is:\", count)"
   ]
  },
  {
   "cell_type": "code",
   "execution_count": null,
   "id": "41001e52",
   "metadata": {},
   "outputs": [],
   "source": []
  }
 ],
 "metadata": {
  "kernelspec": {
   "display_name": "Python 3 (ipykernel)",
   "language": "python",
   "name": "python3"
  },
  "language_info": {
   "codemirror_mode": {
    "name": "ipython",
    "version": 3
   },
   "file_extension": ".py",
   "mimetype": "text/x-python",
   "name": "python",
   "nbconvert_exporter": "python",
   "pygments_lexer": "ipython3",
   "version": "3.10.8"
  }
 },
 "nbformat": 4,
 "nbformat_minor": 5
}
