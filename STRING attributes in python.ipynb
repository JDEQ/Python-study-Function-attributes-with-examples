{
 "cells": [
  {
   "cell_type": "markdown",
   "id": "d33f9e13",
   "metadata": {},
   "source": [
    "#  String Attributes"
   ]
  },
  {
   "cell_type": "markdown",
   "id": "a068f8d5",
   "metadata": {},
   "source": [
    "# 1] capitalize()"
   ]
  },
  {
   "cell_type": "code",
   "execution_count": 1,
   "id": "a93edde3",
   "metadata": {},
   "outputs": [
    {
     "name": "stdout",
     "output_type": "stream",
     "text": [
      "Hello, and welcome to my world.\n"
     ]
    }
   ],
   "source": [
    "txt = \"hello, and welcome to my world.\"\n",
    "\n",
    "x = txt.capitalize()\n",
    "\n",
    "print (x)"
   ]
  },
  {
   "cell_type": "markdown",
   "id": "5953f23f",
   "metadata": {},
   "source": [
    "# 2] casefold()"
   ]
  },
  {
   "cell_type": "code",
   "execution_count": 3,
   "id": "f23df5b5",
   "metadata": {},
   "outputs": [
    {
     "name": "stdout",
     "output_type": "stream",
     "text": [
      "python\n"
     ]
    }
   ],
   "source": [
    "text = \"pYtHon\"\n",
    "\n",
    "# convert all characters to lowercase\n",
    "lowercased_string = text.casefold()\n",
    "\n",
    "print(lowercased_string)\n",
    "\n"
   ]
  },
  {
   "cell_type": "markdown",
   "id": "5c2d2351",
   "metadata": {},
   "source": [
    "# 3] Center()"
   ]
  },
  {
   "cell_type": "code",
   "execution_count": 7,
   "id": "c0e32f22",
   "metadata": {},
   "outputs": [
    {
     "name": "stdout",
     "output_type": "stream",
     "text": [
      "***Python is awesome****\n"
     ]
    }
   ],
   "source": [
    "sentence = \"Python is awesome\"\n",
    "\n",
    "# returns the centered padded string of length 24 \n",
    "new_string = sentence.center(24, '*')\n",
    "\n",
    "print(new_string)"
   ]
  },
  {
   "cell_type": "markdown",
   "id": "900ed34a",
   "metadata": {},
   "source": [
    "# 4] Count()\n",
    "The count() method returns the number of occurrences of a substring in the given string."
   ]
  },
  {
   "cell_type": "code",
   "execution_count": 8,
   "id": "f7c38e3c",
   "metadata": {},
   "outputs": [
    {
     "name": "stdout",
     "output_type": "stream",
     "text": [
      "Number of occurrence of p: 4\n"
     ]
    }
   ],
   "source": [
    "message = 'python is popular programming language'\n",
    "\n",
    "\n",
    "print('Number of occurrence of p:', message.count('p'))\n",
    "\n"
   ]
  },
  {
   "cell_type": "markdown",
   "id": "9a79ffd7",
   "metadata": {},
   "source": [
    "# 5] endswith()\n",
    "The endswith() method returns True if a string ends with the specified suffix. If not, it returns False."
   ]
  },
  {
   "cell_type": "code",
   "execution_count": 10,
   "id": "eafdd7fb",
   "metadata": {},
   "outputs": [
    {
     "name": "stdout",
     "output_type": "stream",
     "text": [
      "True\n"
     ]
    }
   ],
   "source": [
    "message = 'Python is fun'\n",
    "\n",
    "# check if the message ends with fun\n",
    "print(message.endswith('fun'))\n"
   ]
  },
  {
   "cell_type": "markdown",
   "id": "82d3c312",
   "metadata": {},
   "source": [
    "# 6] expandtabs()\n",
    "The expandtabs() method returns a copy of string with all tab characters '\\t' replaced with whitespace characters until the next multiple of tabsize parameter. [default tabsize is 8 ]"
   ]
  },
  {
   "cell_type": "code",
   "execution_count": 20,
   "id": "bec2fa17",
   "metadata": {},
   "outputs": [
    {
     "name": "stdout",
     "output_type": "stream",
     "text": [
      "xyz 12345 abc\n"
     ]
    }
   ],
   "source": [
    "str = 'xyz\\t12345\\tabc'\n",
    "\n",
    "# default tabsize is 8\n",
    "result = str.expandtabs(2)\n",
    "print(result)"
   ]
  },
  {
   "cell_type": "markdown",
   "id": "80cfa48b",
   "metadata": {},
   "source": [
    "# 7] encode() \n",
    "The encode() method returns an encoded version of the given string."
   ]
  },
  {
   "cell_type": "code",
   "execution_count": 23,
   "id": "f2591c9a",
   "metadata": {},
   "outputs": [
    {
     "name": "stdout",
     "output_type": "stream",
     "text": [
      "b'Python Programming'\n"
     ]
    }
   ],
   "source": [
    "title = 'Python Programming'\n",
    "\n",
    "# change encoding to utf-8\n",
    "print(title.encode())"
   ]
  },
  {
   "cell_type": "code",
   "execution_count": 24,
   "id": "6ee74fdc",
   "metadata": {},
   "outputs": [
    {
     "name": "stdout",
     "output_type": "stream",
     "text": [
      "The string is: pythön!\n",
      "The encoded version (with ignore) is: b'pythn!'\n",
      "The encoded version (with replace) is: b'pyth?n!'\n"
     ]
    }
   ],
   "source": [
    "# unicode string\n",
    "string = 'pythön!'\n",
    "\n",
    "# print string\n",
    "print('The string is:', string)\n",
    "\n",
    "# ignore error\n",
    "print('The encoded version (with ignore) is:', string.encode(\"ascii\", \"ignore\"))\n",
    "\n",
    "# replace error\n",
    "print('The encoded version (with replace) is:', string.encode(\"ascii\", \"replace\"))"
   ]
  },
  {
   "cell_type": "markdown",
   "id": "16129866",
   "metadata": {},
   "source": [
    "# 8] Find()\n",
    "The find() method returns the index of first occurrence of the substring (if found). If not found, it returns -1."
   ]
  },
  {
   "cell_type": "markdown",
   "id": "2c35e8df",
   "metadata": {},
   "source": [
    "find() Syntax\n",
    "The syntax of the find() method is:\n",
    "\n",
    "str.find(sub[, start[, end]] )\n"
   ]
  },
  {
   "cell_type": "code",
   "execution_count": 25,
   "id": "6a3d2599",
   "metadata": {},
   "outputs": [
    {
     "name": "stdout",
     "output_type": "stream",
     "text": [
      "12\n"
     ]
    }
   ],
   "source": [
    "message = 'Python is a fun programming language'\n",
    "\n",
    "# check the index of 'fun'\n",
    "print(message.find('fun'))"
   ]
  },
  {
   "cell_type": "code",
   "execution_count": 26,
   "id": "bc855006",
   "metadata": {},
   "outputs": [
    {
     "name": "stdout",
     "output_type": "stream",
     "text": [
      "Substring 'let it': 11\n",
      "Substring 'small ': -1\n",
      "Contains substring 'be,'\n"
     ]
    }
   ],
   "source": [
    "quote = 'Let it be, let it be, let it be'\n",
    "\n",
    "# first occurance of 'let it'(case sensitive)\n",
    "result = quote.find('let it')\n",
    "print(\"Substring 'let it':\", result)\n",
    "\n",
    "# find returns -1 if substring not found\n",
    "result = quote.find('small')\n",
    "print(\"Substring 'small ':\", result)\n",
    "\n",
    "# How to use find()\n",
    "if (quote.find('be,') != -1):\n",
    "    print(\"Contains substring 'be,'\")\n",
    "else:\n",
    "    print(\"Doesn't contain substring\")"
   ]
  },
  {
   "cell_type": "markdown",
   "id": "4eda49d4",
   "metadata": {},
   "source": [
    "# 9] format()\n",
    "The format() method allows the use of simple placeholders for formatting.\n",
    "\n",
    "Example 1: Basic formatting for default, positional and keyword arguments"
   ]
  },
  {
   "cell_type": "code",
   "execution_count": 27,
   "id": "111f8fce",
   "metadata": {},
   "outputs": [
    {
     "name": "stdout",
     "output_type": "stream",
     "text": [
      "Hello Adam, your balance is 230.2346.\n",
      "Hello Adam, your balance is 230.2346.\n",
      "Hello Adam, your balance is 230.2346.\n",
      "Hello Adam, your balance is 230.2346.\n"
     ]
    }
   ],
   "source": [
    "# default arguments\n",
    "print(\"Hello {}, your balance is {}.\".format(\"Adam\", 230.2346))\n",
    "\n",
    "# positional arguments\n",
    "print(\"Hello {0}, your balance is {1}.\".format(\"Adam\", 230.2346))\n",
    "\n",
    "# keyword arguments\n",
    "print(\"Hello {name}, your balance is {blc}.\".format(name=\"Adam\", blc=230.2346))\n",
    "\n",
    "# mixed arguments\n",
    "print(\"Hello {0}, your balance is {blc}.\".format(\"Adam\", blc=230.2346))"
   ]
  },
  {
   "cell_type": "markdown",
   "id": "14ea0336",
   "metadata": {},
   "source": [
    "# 10] Index()\n",
    "The index() method returns the index of a substring inside the string (if found). \n",
    "If the substring is not found, it raises an exception."
   ]
  },
  {
   "cell_type": "code",
   "execution_count": 30,
   "id": "488a41c8",
   "metadata": {},
   "outputs": [
    {
     "name": "stdout",
     "output_type": "stream",
     "text": [
      "7\n"
     ]
    }
   ],
   "source": [
    "text = 'Python is fun'\n",
    "\n",
    "# find the index of is\n",
    "result = text.index('is')\n",
    "print(result)"
   ]
  },
  {
   "cell_type": "markdown",
   "id": "27d56cd9",
   "metadata": {},
   "source": [
    "index() Parameters\n",
    "The index() method takes three parameters:\n",
    "sub - substring to be searched in the string str.\n",
    "start and end(optional) - substring is searched within str[start:end]\n",
    "\n",
    "index() Return Value\n",
    "If substring exists inside the string, it returns the lowest index in the string where substring is found.\n",
    "If substring doesn't exist inside the string, it raises a ValueError exception."
   ]
  },
  {
   "cell_type": "code",
   "execution_count": null,
   "id": "efc54c4b",
   "metadata": {},
   "outputs": [],
   "source": [
    "index() Parameters\n",
    "The index() method takes three parameters:\n",
    "\n",
    "sub - substring to be searched in the string str.\n",
    "start and end(optional) - substring is searched within str[start:end]\n",
    "index() Return Value\n",
    "If substring exists inside the string, it returns the lowest index in the string where substring is found.\n",
    "If substring doesn't exist inside the string, it raises a ValueError exception."
   ]
  },
  {
   "cell_type": "markdown",
   "id": "ff7f87d1",
   "metadata": {},
   "source": [
    "Example 1: index() With Substring argument Only"
   ]
  },
  {
   "cell_type": "code",
   "execution_count": 37,
   "id": "0c23b7a6",
   "metadata": {},
   "outputs": [],
   "source": [
    "sentence = 'Python programming is fun.'\n",
    "\n"
   ]
  },
  {
   "cell_type": "code",
   "execution_count": 39,
   "id": "2aa7d194",
   "metadata": {},
   "outputs": [
    {
     "name": "stdout",
     "output_type": "stream",
     "text": [
      "Substring 'is fun': 19\n"
     ]
    },
    {
     "ename": "ValueError",
     "evalue": "substring not found",
     "output_type": "error",
     "traceback": [
      "\u001b[1;31m---------------------------------------------------------------------------\u001b[0m",
      "\u001b[1;31mValueError\u001b[0m                                Traceback (most recent call last)",
      "Cell \u001b[1;32mIn [39], line 4\u001b[0m\n\u001b[0;32m      1\u001b[0m result \u001b[38;5;241m=\u001b[39m sentence\u001b[38;5;241m.\u001b[39mindex(\u001b[38;5;124m'\u001b[39m\u001b[38;5;124mis fun\u001b[39m\u001b[38;5;124m'\u001b[39m)\n\u001b[0;32m      2\u001b[0m \u001b[38;5;28mprint\u001b[39m(\u001b[38;5;124m\"\u001b[39m\u001b[38;5;124mSubstring \u001b[39m\u001b[38;5;124m'\u001b[39m\u001b[38;5;124mis fun\u001b[39m\u001b[38;5;124m'\u001b[39m\u001b[38;5;124m:\u001b[39m\u001b[38;5;124m\"\u001b[39m, result)\n\u001b[1;32m----> 4\u001b[0m result \u001b[38;5;241m=\u001b[39m \u001b[43msentence\u001b[49m\u001b[38;5;241;43m.\u001b[39;49m\u001b[43mindex\u001b[49m\u001b[43m(\u001b[49m\u001b[38;5;124;43m'\u001b[39;49m\u001b[38;5;124;43mJava\u001b[39;49m\u001b[38;5;124;43m'\u001b[39;49m\u001b[43m)\u001b[49m\n\u001b[0;32m      5\u001b[0m \u001b[38;5;28mprint\u001b[39m(\u001b[38;5;124m\"\u001b[39m\u001b[38;5;124mSubstring \u001b[39m\u001b[38;5;124m'\u001b[39m\u001b[38;5;124mJava\u001b[39m\u001b[38;5;124m'\u001b[39m\u001b[38;5;124m:\u001b[39m\u001b[38;5;124m\"\u001b[39m, result)\n",
      "\u001b[1;31mValueError\u001b[0m: substring not found"
     ]
    }
   ],
   "source": [
    "result = sentence.index('is fun')\n",
    "print(\"Substring 'is fun':\", result)\n",
    "\n",
    "result = sentence.index('Java')\n",
    "print(\"Substring 'Java':\", result)"
   ]
  },
  {
   "cell_type": "markdown",
   "id": "f2e1aa10",
   "metadata": {},
   "source": [
    "Example 2: index() With start and end Arguments"
   ]
  },
  {
   "cell_type": "code",
   "execution_count": 40,
   "id": "53424d27",
   "metadata": {},
   "outputs": [
    {
     "name": "stdout",
     "output_type": "stream",
     "text": [
      "15\n",
      "17\n"
     ]
    },
    {
     "ename": "ValueError",
     "evalue": "substring not found",
     "output_type": "error",
     "traceback": [
      "\u001b[1;31m---------------------------------------------------------------------------\u001b[0m",
      "\u001b[1;31mValueError\u001b[0m                                Traceback (most recent call last)",
      "Cell \u001b[1;32mIn [40], line 10\u001b[0m\n\u001b[0;32m      7\u001b[0m \u001b[38;5;28mprint\u001b[39m(sentence\u001b[38;5;241m.\u001b[39mindex(\u001b[38;5;124m'\u001b[39m\u001b[38;5;124mg is\u001b[39m\u001b[38;5;124m'\u001b[39m, \u001b[38;5;241m10\u001b[39m, \u001b[38;5;241m-\u001b[39m\u001b[38;5;241m4\u001b[39m))\n\u001b[0;32m      9\u001b[0m \u001b[38;5;66;03m# Substring is searched in 'programming'\u001b[39;00m\n\u001b[1;32m---> 10\u001b[0m \u001b[38;5;28mprint\u001b[39m(\u001b[43msentence\u001b[49m\u001b[38;5;241;43m.\u001b[39;49m\u001b[43mindex\u001b[49m\u001b[43m(\u001b[49m\u001b[38;5;124;43m'\u001b[39;49m\u001b[38;5;124;43mfun\u001b[39;49m\u001b[38;5;124;43m'\u001b[39;49m\u001b[43m,\u001b[49m\u001b[43m \u001b[49m\u001b[38;5;241;43m7\u001b[39;49m\u001b[43m,\u001b[49m\u001b[43m \u001b[49m\u001b[38;5;241;43m18\u001b[39;49m\u001b[43m)\u001b[49m)\n",
      "\u001b[1;31mValueError\u001b[0m: substring not found"
     ]
    }
   ],
   "source": [
    "sentence = 'Python programming is fun.'\n",
    "\n",
    "# Substring is searched in 'gramming is fun.'\n",
    "print(sentence.index('ing', 10))\n",
    "\n",
    "# Substring is searched in 'gramming is '\n",
    "print(sentence.index('g is', 10, -4))\n",
    "\n",
    "# Substring is searched in 'programming'\n",
    "print(sentence.index('fun', 7, 18))"
   ]
  },
  {
   "cell_type": "markdown",
   "id": "398268fa",
   "metadata": {},
   "source": [
    "# 11] rfind()\n",
    "The rfind() method returns the highest index of the substring (if found). If not found, it returns -1.\n",
    "\n",
    "The syntax of rfind() is:\n",
    "\n",
    "str.rfind(sub[, start[, end]] )"
   ]
  },
  {
   "cell_type": "code",
   "execution_count": 41,
   "id": "0cb2281f",
   "metadata": {},
   "outputs": [
    {
     "name": "stdout",
     "output_type": "stream",
     "text": [
      "Substring 'let it': 22\n",
      "Substring 'small ': -1\n",
      "Highest index where 'be,' occurs: 18\n"
     ]
    }
   ],
   "source": [
    "#Example 1: rfind() With No start and end Argument\n",
    "quote = 'Let it be, let it be, let it be'\n",
    "\n",
    "result = quote.rfind('let it')\n",
    "print(\"Substring 'let it':\", result)\n",
    "\n",
    "result = quote.rfind('small')\n",
    "print(\"Substring 'small ':\", result)\n",
    "\n",
    "result = quote.rfind('be,')\n",
    "if  (result != -1):\n",
    "  print(\"Highest index where 'be,' occurs:\", result)\n",
    "else:\n",
    "  print(\"Doesn't contain substring\")"
   ]
  },
  {
   "cell_type": "markdown",
   "id": "3b1bd08b",
   "metadata": {},
   "source": [
    "# 12] isalnum()\n",
    "The isalnum() method returns True if all characters in the string are alphanumeric (either alphabets or numbers). \n",
    "If not, it returns False."
   ]
  },
  {
   "cell_type": "code",
   "execution_count": 42,
   "id": "4ae98d9e",
   "metadata": {},
   "outputs": [
    {
     "name": "stdout",
     "output_type": "stream",
     "text": [
      "True\n",
      "False\n"
     ]
    }
   ],
   "source": [
    "# string contains either alphabet or number \n",
    "name1 = \"Python3\"\n",
    "\n",
    "print(name1.isalnum()) #True\n",
    "\n",
    "# string contains whitespace\n",
    "name2 = \"Python 3\"\n",
    "\n",
    "print(name2.isalnum()) #False"
   ]
  },
  {
   "cell_type": "markdown",
   "id": "f894560e",
   "metadata": {},
   "source": [
    "# 13] isalpha()\n",
    "The isalpha() method returns True if all characters in the string are alphabets. If not, it returns False."
   ]
  },
  {
   "cell_type": "code",
   "execution_count": 44,
   "id": "092f4fa6",
   "metadata": {},
   "outputs": [
    {
     "name": "stdout",
     "output_type": "stream",
     "text": [
      "True\n",
      "False\n",
      "False\n"
     ]
    }
   ],
   "source": [
    "name = \"Monica\"\n",
    "print(name.isalpha())\n",
    "\n",
    "# contains whitespace\n",
    "name = \"Monica Geller\"\n",
    "print(name.isalpha())\n",
    "\n",
    "# contains number\n",
    "name = \"Mo3nicaGell22er\"\n",
    "print(name.isalpha())"
   ]
  },
  {
   "cell_type": "markdown",
   "id": "e0633013",
   "metadata": {},
   "source": [
    "# 14]  isprintable()\n",
    "The isprintable() method returns True if all characters in the string are printable.\n",
    "If not, it returns False"
   ]
  },
  {
   "cell_type": "code",
   "execution_count": 46,
   "id": "c43d04dd",
   "metadata": {},
   "outputs": [
    {
     "name": "stdout",
     "output_type": "stream",
     "text": [
      "True\n"
     ]
    }
   ],
   "source": [
    "text = 'apple'\n",
    "\n",
    "# returns True if text is printable \n",
    "result = text.isprintable()\n",
    "\n",
    "print(result)\n",
    "\n"
   ]
  },
  {
   "cell_type": "markdown",
   "id": "2efe4ac1",
   "metadata": {},
   "source": [
    "# Same for : isdecimal, isdigit, isnumeric, islower, isupper, isjoin, istitle, isspace, "
   ]
  },
  {
   "cell_type": "markdown",
   "id": "e19d2057",
   "metadata": {},
   "source": [
    "# 15] strip()\n",
    "\n",
    "The strip() method returns a copy of the string by removing both the leading and\n",
    "the trailing characters (based on the string argument passed).\n",
    "\n"
   ]
  },
  {
   "cell_type": "code",
   "execution_count": 48,
   "id": "a5aba972",
   "metadata": {},
   "outputs": [
    {
     "name": "stdout",
     "output_type": "stream",
     "text": [
      "Message: Learn Python\n"
     ]
    }
   ],
   "source": [
    "message = '     Learn Python  '\n",
    "\n",
    "# remove leading and trailing whitespaces\n",
    "print('Message:', message.strip())"
   ]
  },
  {
   "cell_type": "markdown",
   "id": "2e7d1579",
   "metadata": {},
   "source": [
    "strip() Parameters\n",
    "chars (optional) - a string specifying the set of characters to be removed from the left and right part of the string.\n",
    "The strip() method removes characters from both left and right based on the argument (a string specifying the set of characters to be removed).\n",
    "\n",
    "Note: If the chars argument is not provided, all leading and trailing whitespaces are removed from the string.\n",
    "\n"
   ]
  },
  {
   "cell_type": "code",
   "execution_count": 49,
   "id": "fd091f13",
   "metadata": {},
   "outputs": [
    {
     "name": "stdout",
     "output_type": "stream",
     "text": [
      "xoxo love xoxo\n",
      "lov\n",
      "  xoxo love xoxo   \n",
      "droid is awesome\n"
     ]
    }
   ],
   "source": [
    "#Working of the strip() method\n",
    "string = '  xoxo love xoxo   '\n",
    "\n",
    "# Leading and trailing whitespaces are removed\n",
    "print(string.strip())\n",
    "\n",
    "# All <whitespace>,x,o,e characters in the left\n",
    "# and right of string are removed\n",
    "print(string.strip(' xoe'))\n",
    "\n",
    "# Argument doesn't contain space\n",
    "# No characters are removed.\n",
    "print(string.strip('stx'))\n",
    "\n",
    "string = 'android is awesome'\n",
    "print(string.strip('an'))"
   ]
  },
  {
   "cell_type": "markdown",
   "id": "3cd49068",
   "metadata": {},
   "source": [
    "# 16] partition()\n",
    "\n",
    "Python String partition()\n",
    "The partition() method splits the string at the first occurrence of the argument string and returns a tuple containing the part the before separator, argument string and the part after the separator.\n",
    "\n",
    "The syntax of partition() is:\n",
    "\n",
    "string.partition(separator)\n",
    "partition() Parameters()\n",
    "The partition() method takes a string parameter separator that separates the string at the first occurrence of it.\n",
    "\n",
    "Return Value from partition()\n",
    "The partition method returns a 3-tuple containing:\n",
    "\n",
    "the part before the separator, separator parameter, and the part after the separator if the separator parameter is found in the string\n",
    "the string itself and two empty strings if the separator parameter is not found\n",
    "Example: How partition() works?"
   ]
  },
  {
   "cell_type": "code",
   "execution_count": 51,
   "id": "e15427bc",
   "metadata": {},
   "outputs": [
    {
     "name": "stdout",
     "output_type": "stream",
     "text": [
      "('Python ', 'is ', 'fun')\n",
      "('Python is fun', '', '')\n",
      "('Python ', 'is', \" fun, isn't it\")\n"
     ]
    }
   ],
   "source": [
    "string = \"Python is fun\"\n",
    "\n",
    "# 'is' separator is found\n",
    "print(string.partition('is '))\n",
    "\n",
    "# 'not' separator is not found\n",
    "print(string.partition('not '))\n",
    "\n",
    "string = \"Python is fun, isn't it\"\n",
    "\n",
    "# splits at first occurence of 'is'\n",
    "print(string.partition('is'))"
   ]
  },
  {
   "cell_type": "markdown",
   "id": "095bb64b",
   "metadata": {},
   "source": [
    "# 17] translate()\n",
    "The string translate() method returns a string where each character is mapped to its corresponding character in the translation table.\n",
    "\n",
    "translate() method takes the translation table to replace/translate characters in the given string as per the mapping table.\n",
    "\n",
    "The translation table is created by the static method maketrans().\n",
    "\n",
    "The syntax of the translate() method is:\n",
    "\n",
    "string.translate(table)\n",
    "String translate() Parameters\n",
    "translate() method takes a single parameter:\n",
    "\n",
    "table - a translation table containing the mapping between two characters; usually created by maketrans()\n",
    "Return value from String translate()\n",
    "translate() method returns a string where each character is mapped to its corresponding character as per the translation table."
   ]
  },
  {
   "cell_type": "code",
   "execution_count": 52,
   "id": "7204e3b0",
   "metadata": {},
   "outputs": [
    {
     "name": "stdout",
     "output_type": "stream",
     "text": [
      "Original string: abcdef\n",
      "Translated string: idef\n"
     ]
    }
   ],
   "source": [
    "# first string\n",
    "firstString = \"abc\"\n",
    "secondString = \"ghi\"\n",
    "thirdString = \"ab\"\n",
    "\n",
    "string = \"abcdef\"\n",
    "print(\"Original string:\", string)\n",
    "\n",
    "translation = string.maketrans(firstString, secondString, thirdString)\n",
    "\n",
    "# translate string\n",
    "print(\"Translated string:\", string.translate(translation))"
   ]
  },
  {
   "cell_type": "markdown",
   "id": "9f22fb5b",
   "metadata": {},
   "source": [
    "# 18] replace()\n",
    "The replace() method replaces each matching occurrence of the old character/text in the string with \n",
    "the new character/text.\n",
    "\n",
    "replace() Syntax\n",
    "It's syntax is:\n",
    "\n",
    "str.replace(old, new [, count]) "
   ]
  },
  {
   "cell_type": "code",
   "execution_count": 54,
   "id": "c890db8d",
   "metadata": {},
   "outputs": [
    {
     "name": "stdout",
     "output_type": "stream",
     "text": [
      "Original string: cold, cold heart\n",
      "Replaced string: celd, celd heart\n",
      "let it be, let it be, let it be\n"
     ]
    }
   ],
   "source": [
    "song = 'cold, cold heart'\n",
    "replaced_song = song.replace('o', 'e')\n",
    "\n",
    "# The original string is unchanged\n",
    "print('Original string:', song)\n",
    "\n",
    "print('Replaced string:', replaced_song)\n",
    "\n",
    "song = 'let it be, let it be, let it be'\n",
    "\n",
    "# maximum of 0 substring is replaced\n",
    "# returns copy of the original string\n",
    "print(song.replace('let', 'so', 0))"
   ]
  },
  {
   "cell_type": "code",
   "execution_count": null,
   "id": "97f607cb",
   "metadata": {},
   "outputs": [],
   "source": []
  },
  {
   "cell_type": "code",
   "execution_count": null,
   "id": "e4c6ab6e",
   "metadata": {},
   "outputs": [],
   "source": []
  },
  {
   "cell_type": "code",
   "execution_count": null,
   "id": "8b0fd9fb",
   "metadata": {},
   "outputs": [],
   "source": []
  },
  {
   "cell_type": "code",
   "execution_count": null,
   "id": "8dc05f78",
   "metadata": {},
   "outputs": [],
   "source": []
  }
 ],
 "metadata": {
  "kernelspec": {
   "display_name": "Python 3 (ipykernel)",
   "language": "python",
   "name": "python3"
  },
  "language_info": {
   "codemirror_mode": {
    "name": "ipython",
    "version": 3
   },
   "file_extension": ".py",
   "mimetype": "text/x-python",
   "name": "python",
   "nbconvert_exporter": "python",
   "pygments_lexer": "ipython3",
   "version": "3.10.8"
  }
 },
 "nbformat": 4,
 "nbformat_minor": 5
}
